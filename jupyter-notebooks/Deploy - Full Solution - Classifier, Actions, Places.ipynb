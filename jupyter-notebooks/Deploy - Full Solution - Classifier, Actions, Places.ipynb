{
 "cells": [
  {
   "cell_type": "markdown",
   "metadata": {},
   "source": [
    "### Full solution, receiving text blocks as array, outputting JSON"
   ]
  },
  {
   "cell_type": "code",
   "execution_count": 131,
   "metadata": {},
   "outputs": [],
   "source": [
    "import pdftotext\n",
    "import os\n",
    "import re\n",
    "\n",
    "# Example of converting a PDF file into a JSON object with page text array\n",
    "pdf_docs_path = os.path.join(\"PDF\")\n",
    "one_pdf_path = os.path.join(pdf_docs_path,\"protect-your-home-from-wildfire.pdf\")\n",
    "\n",
    "with open(one_pdf_path, \"rb\") as f:\n",
    "    pdf = pdftotext.PDF(f)\n",
    "    \n",
    "textArray = []\n",
    "for page in pdf:\n",
    "    docText = re.sub(r\"[^a-zA-Z0-9:.,!?%$@]+\", ' ', page).strip()\n",
    "    textArray.append(docText)"
   ]
  },
  {
   "cell_type": "markdown",
   "metadata": {},
   "source": [
    "Now textArray is the object to be posted to a single call that returns a json object with a list item for each text instance, including disaster type and actions."
   ]
  },
  {
   "cell_type": "markdown",
   "metadata": {},
   "source": [
    "### All NLP and other dependencies for Lambda Functions"
   ]
  },
  {
   "cell_type": "code",
   "execution_count": 132,
   "metadata": {},
   "outputs": [],
   "source": [
    "import spacy\n",
    "from spacy.lang.en.stop_words import STOP_WORDS\n",
    "from collections import Counter\n",
    "import string\n",
    "import json\n",
    "nlp = spacy.load(\"en_core_web_sm\")"
   ]
  },
  {
   "cell_type": "markdown",
   "metadata": {},
   "source": [
    "### Action extraction function"
   ]
  },
  {
   "cell_type": "markdown",
   "metadata": {},
   "source": [
    "Three rules to determine an imperative sentence\n",
    "1. The sentence begins with a verb \n",
    "<br>Ex: Consider a sanitary wastewater backflow preventer valve to reduce the risk of sewage backup into your basement.<br>\n",
    "    A caveat is if the verb in in gerund tense, there should be another verb in the sentence, so we avoid title sentences like \"ADAPTING TO CLIMATE CHANGE IN COASTAL COMMUNITIES OF THE ATLANTIC PROVINCES, CANADA\"\n",
    "<br><br>\n",
    "2. The sentence has a structure of Always + v. / Never + v. / Please + v. / Don't + v. / not + v.\n",
    "<br>Ex: Never pour kitchen grease, fats or oils into your house drains.\n",
    "<br><br>\n",
    "3. The sentence has multiple clauses and one of the clause begins with a verb\n",
    "<br>Ex: If you live alone, develop a plan for yourself with links to neighbours and friends.<br>\n",
    "\n",
    "Before these rules are applied, though, we need to rule out interrogative sentences\n",
    "<br>Considering a new house?<br>\n"
   ]
  },
  {
   "cell_type": "code",
   "execution_count": 151,
   "metadata": {},
   "outputs": [],
   "source": [
    "# Defining the imperative sentence detector for action extraction as well as geopolitical entities (GPE)\n",
    "def impSentenceExtractor(someText):\n",
    "    \n",
    "    doc = nlp(someText)\n",
    "    impSentList=[]\n",
    "    gpeList=[]\n",
    "    specialWords = (\"always\",\"never\",\"please\",\"don't\",\"not\")\n",
    "    # Just a list of words not to be confused with places\n",
    "    gpeStopWords = (\"Wildfire\", \"Flood\", \"Flooding\", \"Hurricane\", \"Store\", \"Driveway\", \"Building\", \"Uncut\", \"Rbon\", \"Complementary\")\n",
    "    # Extract sentences from block of text\n",
    "    for sentence in doc.sents:\n",
    "        \n",
    "        # Check if it is not an interrogative sentence:\n",
    "        if sentence[len(sentence)-1].shape_ != \"?\":\n",
    "        \n",
    "            # Rule 1\n",
    "            if sentence[0].tag_=='VB' and len(sentence) > 2 and not (sentence.text in impSentList):\n",
    "                impSentList.append(sentence.text.capitalize())\n",
    "                \n",
    "            else:\n",
    "                if sentence[0].tag_=='VBG' and len(sentence) > 2 and not (sentence.text in impSentList):\n",
    "                    # Caveat to rule 1: search for another verb\n",
    "                    addSentence = False\n",
    "                    for token in sentence:\n",
    "                        if token.tag_=='VB':\n",
    "                            addSentence = True\n",
    "                    if addSentence:\n",
    "                        impSentList.append(sentence.text.capitalize()) \n",
    "\n",
    "                \n",
    "                # Rules 2 & 3         \n",
    "                else:\n",
    "                    addSentence = False\n",
    "                    for token in sentence:\n",
    "                        if token.lower_ in specialWords:\n",
    "                            n = token.i - sentence.start #find the position of the special word in the sentence\n",
    "                            if sentence[n+1].pos_=='VERB' and sentence[n+1].tag_==\"VB\" and len(sentence) > 2: \n",
    "                                addSentence = True\n",
    "                    \n",
    "                    if addSentence and not (sentence.text in impSentList):\n",
    "                        impSentList.append(sentence.text.capitalize())\n",
    "\n",
    "    # Geopolitical entity extraction\n",
    "    for ent in doc.ents:\n",
    "        if ent.label_ == \"GPE\":\n",
    "            # Append it if not already there:\n",
    "            if not(ent.text in gpeList) and not (ent.text in gpeStopWords):\n",
    "                gpeList.append(ent.text)\n",
    "    return impSentList, gpeList"
   ]
  },
  {
   "cell_type": "code",
   "execution_count": 152,
   "metadata": {},
   "outputs": [
    {
     "data": {
      "text/plain": [
       "(['Burn everything thoroughly in canada in rbon.',\n",
       "  'Close the doors.',\n",
       "  'Always close the doors.',\n",
       "  'Acknowledging how you feel can help you manage stress.'],\n",
       " ['Canada'])"
      ]
     },
     "execution_count": 152,
     "metadata": {},
     "output_type": "execute_result"
    }
   ],
   "source": [
    "#Test\n",
    "someText=\"Burn everything thoroughly in Canada in Rbon. Burn barrels and Re pits. adapting to climate change is good. close the doors. always close the doors. Always close the doors. Acknowledging how you feel can help you manage stress. In Hurricane.\"\n",
    "impSentenceExtractor(someText)"
   ]
  },
  {
   "cell_type": "markdown",
   "metadata": {},
   "source": [
    "### Frequent words extractor function"
   ]
  },
  {
   "cell_type": "code",
   "execution_count": 135,
   "metadata": {},
   "outputs": [],
   "source": [
    "# Defining a function for frequent word extraction, returning a simple string:\n",
    "def frequentClimateWordsExtractor(text):\n",
    "\n",
    "    # Dictionary of relevant words\n",
    "    dictionary = [\"snow\",\"change\",\"climate\",\"heatwave\",\"adaptation\",\"tornado\",\"water\",\"icestorm\",\"risk\",\"impact\",\"level\",\"community\",\"land\",\"management\",\"planning\",\"development\",\"http\",\"plan\",\"infrastructure\",\"sea\",\"event\",\"action\",\"vulnerability\",\"flood\",\"assessment\",\"storm\",\"temperature\", \"low\",\"rise\",\"resource\",\"weather\",\"strategy\",\"damage\",\"effect\",\"precipitation\",\"hazard\",\"ice\",\"protection\",\"home\",\"flooding\",\"erosion\",\"environment\",\"emission\",\"al\",\"winter\",\"heat\",\"forest\",\"wind\",\"mitigation\",\"emergency\",\"coast\",\"shoreline\",\"greenhouse\",\"elevation\",\"carbon\",\"wave\",\"dike\",\"wetland\",\"disaster\",\"conservation\",\"reduction\",\"fire\",\"rain\",\"drainage\",\"ground\",\"power\",\"stormwater\",\"roof\",\"rainfall\",\"extreme\",\"wildfire\",\"reference\",\"vegetation\",\"threat\",\"drought\",\"disease\",\"coastline\",\"sewer\",\"nature\",\"neutral\",\"neutrality\"]\n",
    "\n",
    "    # Loads text with linguistic annotations from Spacy\n",
    "    my_doc = nlp(text)\n",
    "\n",
    "    filteredDoc = []\n",
    "    filteredList = []\n",
    "    \n",
    "    # Returns a list with relevant words filtered by the dictionary\n",
    "    for sentence in my_doc.sents:\n",
    "        for word in sentence:\n",
    "            if not(word.is_stop) and (word.pos_=='NOUN' or word.pos_=='PROPN'):\n",
    "                filteredDoc.append(word.text.lower())\n",
    "\n",
    "    nounsFreqDistribution = Counter(filteredDoc)\n",
    "    \n",
    "    listOfWords=\"\"\n",
    "    for word in nounsFreqDistribution.most_common(300):\n",
    "        if word[0] in dictionary:\n",
    "            listOfWords = listOfWords + word[0] + \", \"\n",
    "            filteredList.append(word[0])\n",
    "    return listOfWords, filteredList"
   ]
  },
  {
   "cell_type": "markdown",
   "metadata": {},
   "source": [
    "### Disaster Classifier (rules-based)"
   ]
  },
  {
   "cell_type": "code",
   "execution_count": 136,
   "metadata": {},
   "outputs": [],
   "source": [
    "# Trying a simple rule-based approach to disaster classification\n",
    "def disasterType(key_arr):\n",
    "    \n",
    "    # Undefined to start with\n",
    "    # disaster_class = \"Undefined\"\n",
    "    numDetected = 0\n",
    "    disaster_class = []\n",
    "    \n",
    "    if \"carbon\" in key_arr and (\"neutral\" in key_arr or \"neutrality\" in key_arr):\n",
    "        disaster_class.append(\"Carbon Neutrality\")\n",
    "        numDetected+=1\n",
    "        \n",
    "    if \"adaptation\" in key_arr and (\"change\" in key_arr or \"plan\" in key_arr):\n",
    "        disaster_class.append(\"Climate Change Adaptation\")\n",
    "        numDetected+=1\n",
    "        \n",
    "    if \"drought\" in key_arr:\n",
    "        disaster_class.append(\"Drought\")\n",
    "        numDetected+=1\n",
    "        \n",
    "    if \"flood\" in key_arr or \"flooding\" in key_arr or \"rainfall\" in key_arr or \"stormwater\" in key_arr or (\"sea\" in key_arr and \"level\" in key_arr and \"rise\" in key_arr):\n",
    "        disaster_class.append(\"Flooding\")\n",
    "        numDetected+=1\n",
    "        \n",
    "    if (\"heat\" in key_arr and \"extreme\" in key_arr) or \"heatwave\" in key_arr:\n",
    "        disaster_class.append(\"Heatwave\")\n",
    "        numDetected+=1\n",
    "        \n",
    "    if \"mitigation\" in key_arr:\n",
    "        disaster_class.append(\"Mitigation\")\n",
    "        numDetected+=1\n",
    "        \n",
    "    if \"wind\" in key_arr or \"tornado\" in key_arr:\n",
    "        disaster_class.append(\"Severe Wind\")\n",
    "        numDetected+=1\n",
    "        \n",
    "    if \"snow\" in key_arr or \"snowstorm\" in key_arr:\n",
    "        disaster_class.append(\"Snowstorm\")\n",
    "        numDetected+=1\n",
    "\n",
    "    if \"temperature\" in key_arr and \"low\" in key_arr:\n",
    "        disaster_class.append(\"Low Temperatures\")\n",
    "        numDetected+=1\n",
    "\n",
    "\n",
    "    if \"fire\" in key_arr or \"wildfire\" in key_arr:\n",
    "        disaster_class.append(\"Wildfire\")\n",
    "        numDetected+=1\n",
    "        \n",
    "    if numDetected==0:\n",
    "        disaster_class.append(\"Undefined\")\n",
    "        \n",
    "    if \"http\" in key_arr or \"al\" in key_arr or \"reference\" in key_arr:\n",
    "        disaster_class = [\"References\"]\n",
    "    \n",
    "    return disaster_class"
   ]
  },
  {
   "cell_type": "markdown",
   "metadata": {},
   "source": [
    "### Core function execution, processing textArray"
   ]
  },
  {
   "cell_type": "code",
   "execution_count": 137,
   "metadata": {},
   "outputs": [],
   "source": [
    "# Given textArray, loop through its text items\n",
    "def mainProcessor(arrayOfText):\n",
    "    returnBody=[]\n",
    "\n",
    "    i=0\n",
    "    for textBlock in arrayOfText:\n",
    "        pageItem = {}\n",
    "        i+=1\n",
    "        impSents, places = impSentenceExtractor(textBlock)\n",
    "        keywords, wordList = frequentClimateWordsExtractor(textBlock)\n",
    "        disasterClass = disasterType(wordList)\n",
    "        pageItem['block']=i\n",
    "        pageItem['class']=disasterClass\n",
    "        pageItem['places']=places\n",
    "        pageItem['actions']=impSents\n",
    "        if len(impSents)>0:\n",
    "            returnBody.append(pageItem)\n",
    "    \n",
    "    return returnBody"
   ]
  },
  {
   "cell_type": "code",
   "execution_count": 138,
   "metadata": {},
   "outputs": [
    {
     "data": {
      "text/plain": [
       "[{'block': 4,\n",
       "  'class': ['Wildfire'],\n",
       "  'places': [],\n",
       "  'actions': ['Make sure you have adequate insurance on your home and property.',\n",
       "   'Let s look at three areas where you can apply firesmart principles to protect or reduce the damage to your property from a wildfire.',\n",
       "   'Remove flammable trees and shrubs, such as pine, spruce and juniper.',\n",
       "   'Keep your grass mowed and watered.']},\n",
       " {'block': 5,\n",
       "  'class': ['Wildfire'],\n",
       "  'places': [],\n",
       "  'actions': ['Remove any trees and debris that would support the rapid spread of a wildfire.',\n",
       "   'Make sure to thin or space trees so that the crowns tops of individual trees are at least 3 to 6 metres apart.',\n",
       "   'Remove tree branches up to 2 metres from the ground.',\n",
       "   'In this zone the objective is not to remove all combustible fuels from the forest, but to thin the area so fires will be low intensity and more easily low stand density where tree crowns do not touch extinguished.',\n",
       "   'Thin or reduce the shrubs and trees that make up the understory.',\n",
       "   'Try to keep fire resistant trees such as aspen, poplar and birch, while spacing more flammable trees so that each individual crown is at least 3 to 6 metres apart.']},\n",
       " {'block': 7,\n",
       "  'class': ['Wildfire'],\n",
       "  'places': [],\n",
       "  'actions': ['Ensure your roof is free of combustible needles and leaves and there are no overhanging trees or branches that can provide fuel for airborne sparks and embers.',\n",
       "   'Ensure eaves are closed in and photo:']},\n",
       " {'block': 8,\n",
       "  'class': ['Wildfire'],\n",
       "  'places': [],\n",
       "  'actions': ['Keep areas under decks and porches clear of debris and sheath the undersides with fire resistant material.',\n",
       "   'Be sure to remove flammable forest fuels within 10 metres of glazed window and door openings.']},\n",
       " {'block': 9,\n",
       "  'class': ['Wildfire'],\n",
       "  'places': [],\n",
       "  'actions': ['Always ensure your burn barrel has proper ventilation and is covered with a screen.',\n",
       "   'Never leave your burn barrel or fire pit unattended while it is in no less than use.']},\n",
       " {'block': 10,\n",
       "  'class': ['Wildfire'],\n",
       "  'places': [],\n",
       "  'actions': ['Retardant roofing rated h driveway is wide enough to class a, b or c and fire']},\n",
       " {'block': 11,\n",
       "  'class': ['Wildfire'],\n",
       "  'places': [],\n",
       "  'actions': ['If a question does not apply to your home, score 0.']}]"
      ]
     },
     "execution_count": 138,
     "metadata": {},
     "output_type": "execute_result"
    }
   ],
   "source": [
    "mainProcessor(textArray)"
   ]
  },
  {
   "cell_type": "code",
   "execution_count": 144,
   "metadata": {},
   "outputs": [
    {
     "data": {
      "text/plain": [
       "['Part of the FireSmart Protect your home from Protection Plan Wildfire Designed for safer living is a program endorsed by Canada s insurers to promote disaster resilient homes.',\n",
       " 'for Catastrophic Loss Reduction The Institute for Catastrophic Loss Reduction ICLR , established in 1997, is a world class centre for multidisciplinary disaster prevention research and communication. ICLR is an independent, not for profit research institute founded by the insurance industry and affiliated with the University of Western Ontario. The Institute s mission is to reduce the loss of life and property caused by severe weather and earthquakes through the identification and support of sustained actions that improve society s capacity to adapt to, anticipate, mitigate, withstand and recover from natural disasters. ICLR s mandate is to confront the alarming increase in disaster losses caused by natural disasters and to work to reduce disaster deaths, injuries and property damage. Disaster damage has been doubling every five to seven years since the 1960s, an alarming trend. The greatest tragedy is that many disaster losses are preventable. ICLR is committed to the development and communication of disaster prevention knowledge. This document identifies the steps you can take to better protect your home from wildfires. Published by: The Institute For Catastrophic Loss Reduction Cover photos: Top: ShutterStock. LL: Spryfield fire Halifax, NS, 2009. LR: Kelowna, BC, 2003 Lars Karstad . Waiver: Alberta Sustainable Resource Development and the Crown accept no responsibility of liability for: any loss or damage that any person may sustain as a result of the information in, or anything done or omitted in reliance on, this pamphlet and any personal injury or bodily injury, including death, and any loss or damage caused by a wildfire to insured or uninsured structures and or property where FireSmart principles have been applied. ISNBN: 978 0 9784841 9 4 Copyright 2011 The Institute For Catastrophic Loss Reduction',\n",
       " 'Fire is a natural process essential to maintain healthy forests. Wildland fires can also be a terrifying peril that threatens lives and property. Wildfires burn on average 20,000 km2 of forest each year in Canada. When these fires approach our communities they can force families to evacuate. In fighting these fires, firefighters are sometimes called upon to make decisions on which properties can be defended and which cannot. Over the last several centuries, large parts of Canada have burned repeatedly. 50 per cent of Canada s wildfires are caused by people. Most of the other half is caused by lightning strikes on dry forest. This is why the risk of wildfires is highest in the summer. Photo: Shutterstock If you live in or near a forested area, you re living in an area often referred to as the wildland urban interface and sooner or later you may have to contend with a wildfire. The risk of wildfires is increasing in many parts of Canada and your best protection against loss, damage or injury is prevention. ICLR has partnered with the Government of Alberta to distribute the FireSmart Home Owners Manual. This material details the specific actions that Canadians should take in order to protect their homes from wildfires. 1',\n",
       " 'Properly preparing your home and community doesn t completely guarantee you won t incur fire damage, but it does reduce the risk. Make sure you have adequate insurance on your home and property. Some of the measures in this manual cost very little and help reduce your vulnerability to wildfire others require planning and a long term commitment. Let s look at three areas where you can apply FireSmart principles to protect or reduce the damage to your property from a wildfire. 1. Site preparation Any kind of vegetation is Priority zone 3 combustible. Mature trees, shrubs, grass and even your Priority zone 2 woodpile can easily ignite and increase the Priority zone 1 chance of wildfire damaging your home and property. Managing the space around your 10 m home and buildings is of utmost importance. 20 m 70 m Do you have a cleared zone around your house and buildings? The 10 metre space immediately surrounding Priority zones surronding an interface your home is Priority Zone 1. It s the most building or group of buildings. critical area to introduce FireSmart principles. A fuel free space will give firefighters a chance to save your home from an advancing wildfire. A home without a fuel free space can make firefighting difficult, if not impossible. What to do? Remove flammable trees and shrubs, such as pine, spruce and juniper. Other species such as aspen, poplar and birch have lower flammability rates. Also remove deadfall or woodpiles from this area. Keep your grass mowed and watered. 2',\n",
       " 'How FireSmart is your Second Priority zone? The area extending from 10 to 30 metres away from your home is Priority Zone 2. In this zone, you need to reduce fuels by thinning and pruning trees so that intense wildfires don t have as much fuel to burn. What to do? Remove any trees and debris that would support the rapid spread of a wildfire. Make sure to thin or space trees so that the crowns tops of individual trees are at least 3 to 6 metres apart. Remove tree branches up to 2 metres from the ground. Also remove thick shrubbery and deadfall to reduce the chance that a wildfire will climb up into the forest canopy. Once a wildfire is crowning, it s very difficult to stop. Because fires spread more easily uphill and downwind it s important to extend Priority Zone 2 further on downhill slopes and on windward exposures. Can you extend your FireSmart maintenance plan to the Third Priority zone? Priority Zone 3 begins 30 metres from your home and extends to a distance of 100 metres and beyond. In this zone the objective is not to remove all combustible fuels from the forest, but to thin the area so fires will be low intensity and more easily Low stand density where Tree crowns do not touch extinguished. trees are widely spaced. or overlap. What to do? Thin or reduce the shrubs and trees that make up the understory. Try to keep fire resistant trees such as aspen, poplar and birch, while spacing more flammable trees so that each individual crown is at least 3 to 6 metres apart. 3',\n",
       " 'These are simple economical steps anyone can take to create a FireSmart home, community or business site. To ensure years of protection, make sure you maintain your FireSmart Priority Zones. Lawn or non combustible material ! within 10 metres of building 0 pts . ! within 10 to 30 metres of building 0 pts . 2. Building construction The second set of FireSmart guidelines deals with building materials and design standards. While it may not be practical or economical to apply all of them to an existing structure, many FireSmart modifications are easily accomplished. Others can be included in long term maintenance or renovation plans, and incorporated in new structures as they are designed and constructed. Photo: Kelvin Hirsch Photo: Kelvin Hirsch Metal, clay tile, asphalt shingles, or Unrated wood shakes 30 pts provide non combustible material 0 pts the no fire protection. most fire resistant and remain effective under severe fire exposure. Is your roof FireSmart? The most fire resistant roofing materials are metal, clay tile and asphalt shingles. Untreated wooden shakes and shingles provide no resistance. They are ideal fuels for an advancing wildfire. 4',\n",
       " 'Ensure your roof is free of combustible needles and leaves and there are no overhanging trees or branches that can provide fuel for airborne sparks and embers. Are your exterior walls FireSmart? Materials such as stucco, metal, Photo: Kelvin Hirsch brick and concrete offer superior resistance to wildfire. Logs and heavy timber are less effective, and wood and vinyl siding offer Non combustible siding 0 pts very little protection. Materials such as stucco, metal siding, brick cement shingles, concrete block, poured concrete, and rock offer superior fire resistance. Is the exterior of your home vulnerable to firebrand ignition? If you are designing your home, eliminate areas where firebrands airborne sparks and embers could accumulate and ignite siding, windowsills or trim. Exterior siding should be fire resistant and extend from ground level to the roofline. Eaves and vents are ready made openings that can allow heat and embers to enter a building and ignite. Ensure eaves are closed in and Photo: Don Mortimer Photo: Don Mortimer Photo: Don Mortimer Closed eaves, vents Closed eaves, vents Open eaves, vents screened with not screened with not screened 6 pts 3 millimetre mesh and 3 millimetre mesh 1 pt accessible 0 pts 5',\n",
       " 'screen all vents and soffits. Keep areas under decks and porches clear of debris and sheath the undersides with fire resistant material. Are your doors and windows FireSmart? Be sure to remove flammable forest fuels within 10 metres of glazed window and door openings. Tempered, thermal or smaller double pane windows will provide far greater protection than single pane glass. Photo: PELLA Windows Tempered 0 pts optimum protection is provided by tempered glass. Photo: Kelvin Hirsch Photo: Kelvin Hirsch Single pane 2 or 4 pts Double pane 1 or 2 pts moderate protection is provided by double or thermal pane windows. 6',\n",
       " '3. Don t be the cause of a wildfire Wildfires often start as small accidental ignitions. You can help prevent an accidental wildfire from starting by using FireSmart standards around your property. 3m FireSmart your chimney No less Chimneys should be constructed to than 0.6 m No less meet current building code requirements than 0.9 m and have approved spark arrestors installed. Burn barrels and fire pits Illustration not to scale. Burn barrels and fire pits should be located away from buildings and 3 8 to 16 mm wire mesh metres away from other combustible material. Always ensure your burn barrel has proper ventilation and is covered with a screen. Never leave your burn barrel or fire pit unattended while it is in No less than use. For a safer method of disposal bring 3m your debris to a local landfill site. Illustration not to scale. Power lines and propane tanks Vegetation should be cleared away from power lines, propane tanks and other fuel supplies. Photo: Brian Mottus Emergency facilities Ensure your property has adequate emergency vehicle access and an on site emergency water supply, such as a pond, tank, creek or lake. Contact utility companies for clearing of vegetation under overhead electrical installations. On site fire tools Every home should have shovels, rakes, axes, garden hoses, sprinklers and ladders to assist in suppressing wildfires and protecting homes. 7',\n",
       " 'protection plan D J K I O F E Q M N C P R B L H A G A Prune tree branches to a height of J Pond or tank with emergency water 2 metres or more supply B Store fire wood 10 metres or more from K A FireSmart burning barrel the house avoid downslope location L Driveway clear of trees to a distance C Remove all trees, long grass, shrubs, of at least 3 or 4 metres logs, branches, twigs and needles within M Chimney installed to code complete with 10 metres of house spark arrestor screens D Thin trees with 3 to 6 metres between N All eaves enclosed and screen all vents crowns for at least 30 metres from including soffits the house O Undersides of balconies, decks and E Contact your utility company if trees crawlspaces sheathed in with flame or branches are not clear of power lines resistant materials F Grass within 10 metres of buildings P Propane tanks located at least 10m should be mowed and watered from building clear all vegetation within G Address, fire or lot number clearly signed 3 metres for quick identification by fire service Q Use only fire retardant roofing rated H Driveway is wide enough to Class A, B or C and fire resistant accommodate emergency vehicles exterior siding I Try to provide an alternate emergency R Solid shutters or metal firescreens will access route to your property provide increased fire protection for windows and doors 8',\n",
       " 'and site hazard assessment Assign yourself the indicated number of points for each assessment area. The fewer points you get, the more prepared your property is to successfully survive a wildfire. If a question does not apply to your home, score 0. Photo: CDF Will your home survive a wildfire? 9',\n",
       " 'Important Point Your factors Characteristics of material rating score What kind If you have asphalt shingles, metal, clay tile of roofing material or ULC rated shakes 0 do you have? If you have unrated wooden shakes 30 How clean No needles, leaves or other combustible is your roof? materials 0 A scattering of needles and leaves 2 Clogged gutters and extensive leaf litter 3 What is the Non combustable material, stucco, metal exterior of your siding, brick 0 home built out of? Logs or heavy timbers 1 Wood, vinyl siding or wood shakes 6 Are your eaves Closed eaves and vents with 3mm wire mesh 0 and vents closed up and screened? Closed eaves and vents with no mesh 1 Open eaves and open vents 6 Have you screened All decks, balconies and porches in your balcony, are screened or sheathed in with fire deck or porch? resistant material 0 All decks, balconies and porches are screened or sheathed in with combustible material 2 Decks, balconies and porches are not screened or sheathed in 6 How fire resistant Tempered glass in all doors windows 0 are your windows Double pane glass: and doors? ! Small Medium 1 ! Large 2 Single pane glass ! Small Medium 2 ! Large 4 Where is your More than 10 metres from any building 0 woodpile located? Less than 10 metres from any building 6 Is your home Building is located on the bottom or lower set back from the portion of a hill 0 edge of a slope? Building located on the mid to upper portion or crest of a hill 6 10',\n",
       " 'Important Point Your factors Characteristics of material rating score What type of Deciduous trees poplar, birch within forest surrounds 10 metres of buildings 0 your home, and Deciduous trees 10 to 30 metres from buildings 0 how far away is it? Mixed wood poplar, birch, spruce or pine within 10 metres of buildings 30 Mixed wood 10 to 30 metres from buildings 2 Conifers spruce, pine or fir within 10 to 30 metres of buildings ! separated 10 ! continuous 30 What kind of Well watered lawn or non combustible vegetation grows landscaping material 0 in the zone around Uncut wild grass or shrubs your buildings? ! within 10 metres of buildings 30 ! within 10 to 30 metres of buildings 5 Dead and down woody material within 10 metres of buildings ! scattered 30 ! abundant 30 Dead and down woody material within 10 to 30 metres of buildings ! scattered 5 ! abundant 30 Are there Not within 10 to 30 metres 0 abundant underbrush and Scattered ladder fuels in ! within 10 to 30 metres of buildings 5 the surrounding Abundant forest? ! within 10 to 30 metres of buildings 10 The wildfire hazard level for your home Total score ! Low 21 or less, Moderate 21 to 29, High 30 to 35, Extreme 35 or more. Notes 11',\n",
       " 'Important factors Yes No Do you have adequate insurance on your home and property? Do you have the necessary fire suppression equipment shovels, rakes, buckets, hoses, etc. easily accessible? Are your burn barrels screened and at least 10 metres from combustibles and buildings? Are overhead powerlines clear of vegetation and at least a tree s height away from nearest forest? Are propane tanks clear of vegetation and at least 10 metres from dwellings and other buildings? Are emergency fire services within a 10 minute drive from your home? Is your chimney safe? Is your chimney clean? Does it have proper clearances and stack heights with proper screens and fire arrestors? Do you have good access to your property for emergency response vehicles? Is the area within 10 metres of your home and other buildings free of trees, flammable vegetation and other combustibles? Do you have an adequate municipal or on site water supply in case of fire? Does your family have an emergency fire and evacuation plan? 12',\n",
       " 'Alberta Nova Scotia 310 3473 310 3423 Alberta Sustainable P.O. Box 130 Resource Development Shubenacadie Wildlife Management Branch Hants Cove, NS B0N 2H0 10th Floor, 9920 108 Street Ontario Great West Life Building Edmonton, AB T5K 2M4 310 3473 Aviation, Forest Fire British Columbia and Emergency Services 1 800 663 5555 5555 Ministry of Natural Resources On cellular Ministry of Natural 70 Foster Drive, Suite 400 Resource Operations Sault Ste. Marie, ON P6A 6V5 Wildfire Management Branch Prince Edward island Coastal Fire Centre 665 Allsbrook Road 911 Parksville, BC V9P 2T3 Department of Environment, Energy and Forestry Manitoba Forests, Fish Wildlife Division 1 800 782 0076 P.O. Box 2000, 183 Upton Road Manitoba Conservation Charlottetown, PE C1A 7N8 Headquarters Operations, Fire Program Qu bec Sopfeu Box 10, 200 Saulteaux Crescent Winnipeg, MB R3J 3W3 1 800 463 3389 Societe de protection New Brunswick des forets contre le feu 911 715, 7e rue de l A roport Department of Environment QC G2G 2S7 Ancillary Building, P.O. Box 6000 Saskatchewan Fredericton, NB E3B 5H1 1 800 667 9660 Newfoundland Fire Management 1 866 3473 and Forest Protection Branch Department of Natural Resources P.O. Box 3003, Hwy 2 North P.O. Box 2006, Fortis Tower Prince Albert, SK S6V 6G1 Corner Brook, NL. A2H 6J8 Yukon Territory Northwest Territories 1 888 798 3473 1 877 698 3473 Wildland Fire Management Protective Government of the Northwest Territories Services Branch P.O. Box 7, 149 McDougal Road Government of Yukon Fort Smith, NT X0E 0P0 Whitehorse, YT Y1A 2C6 13',\n",
       " 'Institute for Catastrophic Loss Reduction Institut de Pr vention des Sinistres Catastrophiques Toronto office London office 20 Richmond Street East Boundary Layer Wind Tunnel Laboratory Suite 210 University of Western Ontario Toronto, Ontario, Canada London, Ontario, Canada M5C 2R9 N6A 5B9 416 364 8677 519 661 3234 416 364 5889 519 661 4273 info@iclr.org www.iclr.org Designed for safer living Designed for safer living Protect your home from Protect your home from Basement flooding Severe wind Designed for safer living is a program endorsed by Canada s insurers to promote disaster resilient homes. Designed for safer living is a program endorsed by Canada s insurers to promote disaster resilient homes. Designed for safer living Designed for safer living Protect your home from Protect your home from Earthquakes Snow ice storms Designed for safer living is a program endorsed Designed for safer living is a program endorsed by Canada s insurers to promote disaster resilient homes. by Canada s insurers to promote disaster resilient homes. With Federal funding support through Natural Resources Canada s Climate Change Impacts and Adaptation Program.']"
      ]
     },
     "execution_count": 144,
     "metadata": {},
     "output_type": "execute_result"
    }
   ],
   "source": [
    "textArray"
   ]
  }
 ],
 "metadata": {
  "kernelspec": {
   "display_name": "Python 3",
   "language": "python",
   "name": "python3"
  },
  "language_info": {
   "codemirror_mode": {
    "name": "ipython",
    "version": 3
   },
   "file_extension": ".py",
   "mimetype": "text/x-python",
   "name": "python",
   "nbconvert_exporter": "python",
   "pygments_lexer": "ipython3",
   "version": "3.7.1"
  }
 },
 "nbformat": 4,
 "nbformat_minor": 2
}
